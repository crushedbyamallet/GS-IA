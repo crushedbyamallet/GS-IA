{
  "nbformat": 4,
  "nbformat_minor": 0,
  "metadata": {
    "colab": {
      "provenance": []
    },
    "kernelspec": {
      "name": "python3",
      "display_name": "Python 3"
    },
    "language_info": {
      "name": "python"
    }
  },
  "cells": [
    {
      "cell_type": "markdown",
      "source": [
        "*Este modelo de aprendizado profundo com Keras classifica imagens de resíduos. Ele processa uma imagem de entrada, redimensionando-a e normalizando-a, e a alimenta ao modelo para prever a classe do resíduo. Em seguida, retorna o nome da classe predita e a pontuação de confiança, auxiliando na identificação automática de diferentes tipos de resíduos.*"
      ],
      "metadata": {
        "id": "yu1FX3FKj_8l"
      }
    },
    {
      "cell_type": "markdown",
      "source": [
        "*1) Importação das bibliotecas necessárias*"
      ],
      "metadata": {
        "id": "Ukb5Q3uCjG2Q"
      }
    },
    {
      "cell_type": "code",
      "source": [
        "# importação das bibliotecas\n",
        "from keras.models import load_model\n",
        "from PIL import Image, ImageOps  # pillow é a biblioteca usada para manipulação de imagens\n",
        "import numpy as np"
      ],
      "metadata": {
        "id": "DuCErGgDgozc"
      },
      "execution_count": null,
      "outputs": []
    },
    {
      "cell_type": "markdown",
      "source": [
        "*2) Desativa a notação científica para impressão de valores numéricos, facilitando a leitura dos resultados.*"
      ],
      "metadata": {
        "id": "cnE_S1J5kiH-"
      }
    },
    {
      "cell_type": "code",
      "source": [
        "# desativação da notação científica\n",
        "np.set_printoptions(suppress=True)"
      ],
      "metadata": {
        "id": "JwD6yKWXjYfC"
      },
      "execution_count": null,
      "outputs": []
    },
    {
      "cell_type": "markdown",
      "source": [
        "*3) Carrega um modelo Keras pré-treinado a partir de um arquivo .h5. O parâmetro compile=False evita a recompilação do modelo.*"
      ],
      "metadata": {
        "id": "iZvEJafxlBZp"
      }
    },
    {
      "cell_type": "code",
      "source": [
        "# carregando o modelo\n",
        "model = load_model(\"/content/keras_model.h5\", compile=False)"
      ],
      "metadata": {
        "id": "7yZpy8jwjaPg"
      },
      "execution_count": null,
      "outputs": []
    },
    {
      "cell_type": "markdown",
      "source": [
        "*4) Lê os rótulos das classes a partir de um arquivo de texto. Cada linha do arquivo corresponde a um nome de classe.*"
      ],
      "metadata": {
        "id": "CCXCq-bilInK"
      }
    },
    {
      "cell_type": "code",
      "source": [
        "# carregando rótulos\n",
        "class_names = open(\"labels.txt\", \"r\").readlines()"
      ],
      "metadata": {
        "id": "C2RMa0mRjc_R"
      },
      "execution_count": null,
      "outputs": []
    },
    {
      "cell_type": "markdown",
      "source": [
        "*5) Cria um array numpy com a forma adequada para o modelo Keras (1 imagem de 224x224 pixels com 3 canais de cor). Este array armazenará a imagem processada.*"
      ],
      "metadata": {
        "id": "vo_nOnx-liUE"
      }
    },
    {
      "cell_type": "code",
      "source": [
        "# array para alimentar o modelo\n",
        "# o 'comprimento' ou número de imagens do array é determinado pela primeira posição na tupla de forma, neste caso, 1\n",
        "data = np.ndarray(shape=(1, 224, 224, 3), dtype=np.float32)"
      ],
      "metadata": {
        "id": "AnCMkWAFjetv"
      },
      "execution_count": null,
      "outputs": []
    },
    {
      "cell_type": "markdown",
      "source": [
        "*6) Abre a imagem e converte ela para RGB.*"
      ],
      "metadata": {
        "id": "Shi7H2HlmHmK"
      }
    },
    {
      "cell_type": "code",
      "source": [
        "# imagem para teste\n",
        "image = Image.open(\"/content/metal1.jpg\").convert(\"RGB\")"
      ],
      "metadata": {
        "id": "CUA8icNpjhT_"
      },
      "execution_count": null,
      "outputs": []
    },
    {
      "cell_type": "markdown",
      "source": [
        "*7) Redimensiona a imagem para 224x224 pixels, preservando a proporção e cortando a partir do centro.*"
      ],
      "metadata": {
        "id": "EUxf_I2HmU6U"
      }
    },
    {
      "cell_type": "code",
      "source": [
        "# redimensionando\n",
        "size = (224, 224)\n",
        "image = ImageOps.fit(image, size, Image.Resampling.LANCZOS)"
      ],
      "metadata": {
        "id": "84vSMRr_jjPN"
      },
      "execution_count": null,
      "outputs": []
    },
    {
      "cell_type": "markdown",
      "source": [
        "*8) Converte a imagem para um array numpy.*"
      ],
      "metadata": {
        "id": "9wmjhBkumebq"
      }
    },
    {
      "cell_type": "code",
      "source": [
        "# array numpy\n",
        "image_array = np.asarray(image)"
      ],
      "metadata": {
        "id": "6wkcWh_PjlFK"
      },
      "execution_count": null,
      "outputs": []
    },
    {
      "cell_type": "markdown",
      "source": [
        "*9) Normaliza os valores dos pixels para estarem na faixa [-1, 1].*"
      ],
      "metadata": {
        "id": "2v-_9y7ImwpG"
      }
    },
    {
      "cell_type": "code",
      "source": [
        "# normalizando a imagem\n",
        "normalized_image_array = (image_array.astype(np.float32) / 127.5) - 1"
      ],
      "metadata": {
        "id": "V7OT9Z4xjnT7"
      },
      "execution_count": null,
      "outputs": []
    },
    {
      "cell_type": "code",
      "source": [
        "# carregando a imagem dentro do array\n",
        "data[0] = normalized_image_array"
      ],
      "metadata": {
        "id": "BmncuotDjosa"
      },
      "execution_count": null,
      "outputs": []
    },
    {
      "cell_type": "markdown",
      "source": [
        "10) Realiza as predições do modelo treinado, apresenta a classe da imagem de teste, identifica o índice da classe com a maior probabilidade e\n",
        "recupera o nome da classe correspondente e a pontuação de confiança."
      ],
      "metadata": {
        "id": "yvlZK9nRnDjr"
      }
    },
    {
      "cell_type": "code",
      "source": [
        "# predições\n",
        "prediction = model.predict(data)\n",
        "index = np.argmax(prediction)\n",
        "class_name = class_names[index]\n",
        "confidence_score = prediction[0][index]"
      ],
      "metadata": {
        "colab": {
          "base_uri": "https://localhost:8080/"
        },
        "id": "HNFcaNIXjrvs",
        "outputId": "8f4b88a8-4b0d-4df6-f333-4455186f89c1"
      },
      "execution_count": null,
      "outputs": [
        {
          "output_type": "stream",
          "name": "stdout",
          "text": [
            "1/1 [==============================] - 1s 1s/step\n"
          ]
        }
      ]
    },
    {
      "cell_type": "code",
      "source": [
        "# print das predições e pontuações\n",
        "print(\"classe:\", class_name[2:], end=\"\")\n",
        "print(\"pontuação de confiança:\", confidence_score)"
      ],
      "metadata": {
        "colab": {
          "base_uri": "https://localhost:8080/"
        },
        "id": "9kjMqEMHjtMn",
        "outputId": "f71486b2-9dd9-4216-cb8a-37b8fd02d420"
      },
      "execution_count": null,
      "outputs": [
        {
          "output_type": "stream",
          "name": "stdout",
          "text": [
            "classe: metal\n",
            "pontuação de confiança: 0.9999982\n"
          ]
        }
      ]
    }
  ]
}